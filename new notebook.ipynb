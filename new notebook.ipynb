{
    "nbformat_minor": 1, 
    "cells": [
        {
            "execution_count": 1, 
            "cell_type": "code", 
            "metadata": {}, 
            "outputs": [
                {
                    "execution_count": 1, 
                    "metadata": {}, 
                    "data": {
                        "text/html": "<div>\n<style scoped>\n    .dataframe tbody tr th:only-of-type {\n        vertical-align: middle;\n    }\n\n    .dataframe tbody tr th {\n        vertical-align: top;\n    }\n\n    .dataframe thead th {\n        text-align: right;\n    }\n</style>\n<table border=\"1\" class=\"dataframe\">\n  <thead>\n    <tr style=\"text-align: right;\">\n      <th></th>\n      <th>customer_id</th>\n      <th>first_name</th>\n      <th>last_name</th>\n      <th>twitter_handle</th>\n      <th>number</th>\n      <th>gender</th>\n      <th>age</th>\n      <th>type</th>\n      <th>location</th>\n      <th>location_lat</th>\n      <th>...</th>\n      <th>voice_package_deal</th>\n      <th>4g_handset_deal</th>\n      <th>all_u_can_eat_data_deal</th>\n      <th>accidental_damage_cover_deal</th>\n      <th>europe_roamer_deal</th>\n      <th>americas_roamer_deal</th>\n      <th>asia_africa_roamer_deal</th>\n      <th>extra_handset_deal</th>\n      <th>musicsubscription_deal</th>\n      <th>churned</th>\n    </tr>\n  </thead>\n  <tbody>\n    <tr>\n      <th>0</th>\n      <td>C0000000965</td>\n      <td>DONALD</td>\n      <td>RIVERA</td>\n      <td>NaN</td>\n      <td>3172005440</td>\n      <td>M</td>\n      <td>36</td>\n      <td>Personal</td>\n      <td>TR21</td>\n      <td>50.015577</td>\n      <td>...</td>\n      <td>N</td>\n      <td>Y</td>\n      <td>N</td>\n      <td>N</td>\n      <td>N</td>\n      <td>N</td>\n      <td>N</td>\n      <td>N</td>\n      <td>N</td>\n      <td>N</td>\n    </tr>\n    <tr>\n      <th>1</th>\n      <td>C0000000527</td>\n      <td>JULIE</td>\n      <td>MITCHELL</td>\n      <td>julie_mitchell</td>\n      <td>2520653481</td>\n      <td>F</td>\n      <td>24</td>\n      <td>Personal</td>\n      <td>CM19</td>\n      <td>51.758703</td>\n      <td>...</td>\n      <td>N</td>\n      <td>N</td>\n      <td>N</td>\n      <td>N</td>\n      <td>N</td>\n      <td>N</td>\n      <td>N</td>\n      <td>N</td>\n      <td>N</td>\n      <td>Y</td>\n    </tr>\n    <tr>\n      <th>2</th>\n      <td>C0000000585</td>\n      <td>DEBORAH</td>\n      <td>MARTINEZ</td>\n      <td>NaN</td>\n      <td>5025936010</td>\n      <td>F</td>\n      <td>50</td>\n      <td>Personal</td>\n      <td>B79</td>\n      <td>52.670176</td>\n      <td>...</td>\n      <td>N</td>\n      <td>N</td>\n      <td>N</td>\n      <td>N</td>\n      <td>N</td>\n      <td>N</td>\n      <td>N</td>\n      <td>N</td>\n      <td>N</td>\n      <td>N</td>\n    </tr>\n    <tr>\n      <th>3</th>\n      <td>C0000000448</td>\n      <td>SAMUEL</td>\n      <td>ROBERTS</td>\n      <td>samuel_roberts</td>\n      <td>4995172201</td>\n      <td>M</td>\n      <td>57</td>\n      <td>Personal</td>\n      <td>GU1</td>\n      <td>51.245852</td>\n      <td>...</td>\n      <td>N</td>\n      <td>N</td>\n      <td>Y</td>\n      <td>N</td>\n      <td>N</td>\n      <td>N</td>\n      <td>N</td>\n      <td>Y</td>\n      <td>N</td>\n      <td>N</td>\n    </tr>\n    <tr>\n      <th>4</th>\n      <td>C0000000587</td>\n      <td>SARA</td>\n      <td>WRIGHT</td>\n      <td>sara_wright</td>\n      <td>6237408139</td>\n      <td>M</td>\n      <td>41</td>\n      <td>Personal</td>\n      <td>SW17</td>\n      <td>51.433157</td>\n      <td>...</td>\n      <td>N</td>\n      <td>N</td>\n      <td>Y</td>\n      <td>N</td>\n      <td>N</td>\n      <td>N</td>\n      <td>N</td>\n      <td>Y</td>\n      <td>N</td>\n      <td>N</td>\n    </tr>\n  </tbody>\n</table>\n<p>5 rows \u00d7 23 columns</p>\n</div>", 
                        "text/plain": "   customer_id first_name last_name  twitter_handle      number gender  age  \\\n0  C0000000965     DONALD    RIVERA             NaN  3172005440      M   36   \n1  C0000000527      JULIE  MITCHELL  julie_mitchell  2520653481      F   24   \n2  C0000000585    DEBORAH  MARTINEZ             NaN  5025936010      F   50   \n3  C0000000448     SAMUEL   ROBERTS  samuel_roberts  4995172201      M   57   \n4  C0000000587       SARA    WRIGHT     sara_wright  6237408139      M   41   \n\n       type location  location_lat   ...    voice_package_deal  \\\n0  Personal     TR21     50.015577   ...                     N   \n1  Personal     CM19     51.758703   ...                     N   \n2  Personal      B79     52.670176   ...                     N   \n3  Personal      GU1     51.245852   ...                     N   \n4  Personal     SW17     51.433157   ...                     N   \n\n   4g_handset_deal all_u_can_eat_data_deal accidental_damage_cover_deal  \\\n0                Y                       N                            N   \n1                N                       N                            N   \n2                N                       N                            N   \n3                N                       Y                            N   \n4                N                       Y                            N   \n\n  europe_roamer_deal americas_roamer_deal asia_africa_roamer_deal  \\\n0                  N                    N                       N   \n1                  N                    N                       N   \n2                  N                    N                       N   \n3                  N                    N                       N   \n4                  N                    N                       N   \n\n  extra_handset_deal musicsubscription_deal churned  \n0                  N                      N       N  \n1                  N                      N       Y  \n2                  N                      N       N  \n3                  Y                      N       N  \n4                  Y                      N       N  \n\n[5 rows x 23 columns]"
                    }, 
                    "output_type": "execute_result"
                }
            ], 
            "source": "# The code was removed by DSX for sharing."
        }, 
        {
            "execution_count": 2, 
            "cell_type": "code", 
            "metadata": {}, 
            "outputs": [
                {
                    "execution_count": 2, 
                    "metadata": {}, 
                    "data": {
                        "text/plain": "[Row(customer_id='C0000000965', first_name='DONALD', last_name='RIVERA', twitter_handle=None, number='3172005440', gender='M', age='36', type='Personal', location='TR21', location_lat='50.015577', location_lon='-5.930315', callcenter_callcount='0', text_package_deal='Y', voice_package_deal='N', 4g_handset_deal='Y', all_u_can_eat_data_deal='N', accidental_damage_cover_deal='N', europe_roamer_deal='N', americas_roamer_deal='N', asia_africa_roamer_deal='N', extra_handset_deal='N', musicsubscription_deal='N', churned='N'),\n Row(customer_id='C0000000527', first_name='JULIE', last_name='MITCHELL', twitter_handle='julie_mitchell', number='2520653481', gender='F', age='24', type='Personal', location='CM19', location_lat='51.758703', location_lon='0.054700', callcenter_callcount='5', text_package_deal='N', voice_package_deal='N', 4g_handset_deal='N', all_u_can_eat_data_deal='N', accidental_damage_cover_deal='N', europe_roamer_deal='N', americas_roamer_deal='N', asia_africa_roamer_deal='N', extra_handset_deal='N', musicsubscription_deal='N', churned='Y'),\n Row(customer_id='C0000000585', first_name='DEBORAH', last_name='MARTINEZ', twitter_handle=None, number='5025936010', gender='F', age='50', type='Personal', location='B79', location_lat='52.670176', location_lon='-1.645390', callcenter_callcount='1', text_package_deal='N', voice_package_deal='N', 4g_handset_deal='N', all_u_can_eat_data_deal='N', accidental_damage_cover_deal='N', europe_roamer_deal='N', americas_roamer_deal='N', asia_africa_roamer_deal='N', extra_handset_deal='N', musicsubscription_deal='N', churned='N'),\n Row(customer_id='C0000000448', first_name='SAMUEL', last_name='ROBERTS', twitter_handle='samuel_roberts', number='4995172201', gender='M', age='57', type='Personal', location='GU1', location_lat='51.245852', location_lon='-0.554145', callcenter_callcount='0', text_package_deal='N', voice_package_deal='N', 4g_handset_deal='N', all_u_can_eat_data_deal='Y', accidental_damage_cover_deal='N', europe_roamer_deal='N', americas_roamer_deal='N', asia_africa_roamer_deal='N', extra_handset_deal='Y', musicsubscription_deal='N', churned='N'),\n Row(customer_id='C0000000587', first_name='SARA', last_name='WRIGHT', twitter_handle='sara_wright', number='6237408139', gender='M', age='41', type='Personal', location='SW17', location_lat='51.433157', location_lon='-0.168994', callcenter_callcount='0', text_package_deal='N', voice_package_deal='N', 4g_handset_deal='N', all_u_can_eat_data_deal='Y', accidental_damage_cover_deal='N', europe_roamer_deal='N', americas_roamer_deal='N', asia_africa_roamer_deal='N', extra_handset_deal='Y', musicsubscription_deal='N', churned='N')]"
                    }, 
                    "output_type": "execute_result"
                }
            ], 
            "source": "# The code was removed by DSX for sharing."
        }, 
        {
            "execution_count": null, 
            "cell_type": "code", 
            "metadata": {}, 
            "outputs": [], 
            "source": "# The code was removed by DSX for sharing."
        }, 
        {
            "execution_count": 3, 
            "cell_type": "code", 
            "metadata": {}, 
            "outputs": [
                {
                    "execution_count": 3, 
                    "metadata": {}, 
                    "data": {
                        "text/plain": "'/gpfs/global_fs01/sym_shared/YPProdSpark/user/secd-cd1909fc628834-3c9ae670585a/notebook/work'"
                    }, 
                    "output_type": "execute_result"
                }
            ], 
            "source": "pwd"
        }
    ], 
    "metadata": {
        "kernelspec": {
            "display_name": "Python 3.5 with Spark 2.1", 
            "name": "python3-spark21", 
            "language": "python"
        }, 
        "language_info": {
            "mimetype": "text/x-python", 
            "nbconvert_exporter": "python", 
            "version": "3.5.4", 
            "name": "python", 
            "file_extension": ".py", 
            "pygments_lexer": "ipython3", 
            "codemirror_mode": {
                "version": 3, 
                "name": "ipython"
            }
        }
    }, 
    "nbformat": 4
}